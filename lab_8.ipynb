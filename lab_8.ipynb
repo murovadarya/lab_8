{
 "cells": [
  {
   "cell_type": "code",
   "execution_count": 2,
   "id": "377f0943",
   "metadata": {},
   "outputs": [],
   "source": [
    "import numpy as np\n",
    "\n",
    "\n",
    "def strassen_algorithm(x, y):\n",
    "    if x.size == 1 or y.size == 1:\n",
    "        return x * y\n",
    "\n",
    "    n = x.shape[0]\n",
    "\n",
    "    if n % 2 == 1:\n",
    "        x = np.pad(x, (0, 1), mode='constant')\n",
    "        y = np.pad(y, (0, 1), mode='constant')\n",
    "\n",
    "    m = int(np.ceil(n / 2))\n",
    "    a = x[: m, : m]\n",
    "    b = x[: m, m:]\n",
    "    c = x[m:, : m]\n",
    "    d = x[m:, m:]\n",
    "    e = y[: m, : m]\n",
    "    f = y[: m, m:]\n",
    "    g = y[m:, : m]\n",
    "    h = y[m:, m:]\n",
    "    p1 = strassen_algorithm(a, f - h)\n",
    "    p2 = strassen_algorithm(a + b, h)\n",
    "    p3 = strassen_algorithm(c + d, e)\n",
    "    p4 = strassen_algorithm(d, g - e)\n",
    "    p5 = strassen_algorithm(a + d, e + h)\n",
    "    p6 = strassen_algorithm(b - d, g + h)\n",
    "    p7 = strassen_algorithm(a - c, e + f)\n",
    "    result = np.zeros((2 * m, 2 * m), dtype=np.int32)\n",
    "    result[: m, : m] = p5 + p4 - p2 + p6\n",
    "    result[: m, m:] = p1 + p2\n",
    "    result[m:, : m] = p3 + p4\n",
    "    result[m:, m:] = p1 + p5 - p3 - p7\n",
    "\n",
    "    return result[: n, : n]\n"
   ]
  },
  {
   "cell_type": "code",
   "execution_count": 3,
   "id": "ecc9b070",
   "metadata": {},
   "outputs": [
    {
     "name": "stdout",
     "output_type": "stream",
     "text": [
      "3000\n"
     ]
    }
   ],
   "source": [
    "import sys\n",
    "print(sys.getrecursionlimit())\n",
    "sys.setrecursionlimit(3000)"
   ]
  },
  {
   "cell_type": "code",
   "execution_count": 13,
   "id": "ff1bc369",
   "metadata": {},
   "outputs": [
    {
     "name": "stdout",
     "output_type": "stream",
     "text": [
      "2\n",
      "3\n",
      "4\n",
      "5\n",
      "6\n",
      "7\n",
      "8\n",
      "9\n"
     ]
    }
   ],
   "source": [
    "#strassen \n",
    "\n",
    "\n",
    "from multiprocessing.dummy import Array\n",
    "import numpy as np\n",
    "import time\n",
    "import statistics as stat\n",
    "import pandas as pd\n",
    "from typing import NamedTuple\n",
    "from collections import namedtuple\n",
    "import matplotlib.pyplot as mp\n",
    "\n",
    "results_list = []\n",
    "Strassen = namedtuple('Strassen', ['matrix_size', 'time'])\n",
    "\n",
    "for i in range(2, 10):\n",
    "    X = np.random.rand(2**i, 2**i)\n",
    "    Y = np.random.rand(2**i, 2**i)\n",
    "    \n",
    "    # start algorithms with this vector, measure time\n",
    "    start_time = time.time()\n",
    "    algorithm = strassen_algorithm(X, Y)\n",
    "    finish_time = time.time()\n",
    "    time_result = (finish_time - start_time)\n",
    "\n",
    "    # write down the results of experiment\n",
    "    result = Strassen(i, time_result)\n",
    "    results_list.append(result)\n",
    "    print(i)\n",
    "    \n"
   ]
  },
  {
   "cell_type": "code",
   "execution_count": 14,
   "id": "3ace9976",
   "metadata": {},
   "outputs": [],
   "source": [
    "def naive(A, B, result): \n",
    "\n",
    "    for i in range(len(A)):\n",
    "\n",
    "        # iterating by column by B\n",
    "        for j in range(len(B[0])):\n",
    "\n",
    "            # iterating by rows of B\n",
    "            for k in range(len(B)):\n",
    "                result[i][j] += A[i][k] * B[k][j]\n",
    "        return result"
   ]
  },
  {
   "cell_type": "code",
   "execution_count": 15,
   "id": "cd5f64de",
   "metadata": {},
   "outputs": [
    {
     "name": "stdout",
     "output_type": "stream",
     "text": [
      "2\n",
      "3\n",
      "4\n",
      "5\n",
      "6\n",
      "7\n",
      "8\n",
      "9\n"
     ]
    }
   ],
   "source": [
    "from typing import NamedTuple\n",
    "from collections import namedtuple\n",
    "import matplotlib.pyplot as mp\n",
    "\n",
    "results_list_naive = []\n",
    "Naive = namedtuple('Naive', ['matrix_size', 'time'])\n",
    "\n",
    "for i in range(2, 10):\n",
    "    X = np.random.rand(2**i, 2**i)\n",
    "    Y = np.random.rand(2**i, 2**i)\n",
    "    \n",
    "    C = np.empty((2**i, 2**i))\n",
    "    \n",
    "    # start algorithms with this vector, measure time\n",
    "    start_time = time.time()\n",
    "    algorithm = naive(X, Y, C)\n",
    "    finish_time = time.time()\n",
    "    time_result = (finish_time - start_time)\n",
    "\n",
    "    # write down the results of experiment\n",
    "    result_naive = Naive(i, time_result)\n",
    "    results_list_naive.append(result)\n",
    "    print(i)\n"
   ]
  },
  {
   "cell_type": "code",
   "execution_count": 9,
   "id": "5bc3d446",
   "metadata": {},
   "outputs": [],
   "source": [
    "results_list = []\n",
    "Strassen = namedtuple('Strassen', ['matrix_size', 'time'])\n",
    "\n",
    "for i in range(2, 9):\n",
    "    X = np.random.rand(2**i, 2**i)\n",
    "    Y = np.random.rand(2**i, 2**i)\n",
    "    \n",
    "    # start algorithms with this vector, measure time\n",
    "    start_time = time.time()\n",
    "    algorithm = strassen_algorithm(X, Y)\n",
    "    finish_time = time.time()\n",
    "    time_result = (finish_time - start_time)\n",
    "\n",
    "    # write down the results of experiment\n",
    "    result = Strassen(i, time_result)\n",
    "    results_list.append(result)"
   ]
  },
  {
   "cell_type": "code",
   "execution_count": 19,
   "id": "e1d3ac57",
   "metadata": {},
   "outputs": [
    {
     "data": {
      "image/png": "[encoded data removed]",
      "text/plain": [
       "<Figure size 432x288 with 1 Axes>"
      ]
     },
     "metadata": {
      "needs_background": "light"
     },
     "output_type": "display_data"
    }
   ],
   "source": [
    "df = pd.DataFrame(results_list, columns=results_list[0]._fields)\n",
    "x = df[\"matrix_size\"]\n",
    "y = df[\"time\"]\n",
    "\n",
    "df_naive = pd.DataFrame(results_list_naive, columns=results_list_naive[0]._fields)\n",
    "\n",
    "x_naive = df[\"matrix_size\"]\n",
    "y_niave = df[\"time\"]\n",
    "\n",
    "mp.plot(x,y,label=\"Strassen's algorithm time\", color=\"green\")\n",
    "# mp.plot(x_naive,y_niave,label=\"Naive algorithm time\", color=\"blue\")\n",
    "# mp.plot(x, y_fit,label=\"theoretical curve\")\n",
    "# mp.ylim(0,1)\n",
    "mp.xlabel(\"Matrix size (2^n*2^N)\")\n",
    "mp.ylabel(\"Time, sec\")\n",
    "mp.legend()\n",
    "mp.show()\n"
   ]
  },
  {
   "cell_type": "code",
   "execution_count": 11,
   "id": "1611d331",
   "metadata": {},
   "outputs": [
    {
     "data": {
      "text/plain": [
       "0     0.000537\n",
       "1     0.001415\n",
       "2     0.006773\n",
       "3     0.045225\n",
       "4     0.314227\n",
       "5     2.210160\n",
       "6    15.482221\n",
       "Name: time, dtype: float64"
      ]
     },
     "execution_count": 11,
     "metadata": {},
     "output_type": "execute_result"
    }
   ],
   "source": [
    "y_niave"
   ]
  },
  {
   "cell_type": "code",
   "execution_count": 12,
   "id": "80539d67",
   "metadata": {},
   "outputs": [
    {
     "data": {
      "text/plain": [
       "0     0.000537\n",
       "1     0.001415\n",
       "2     0.006773\n",
       "3     0.045225\n",
       "4     0.314227\n",
       "5     2.210160\n",
       "6    15.482221\n",
       "Name: time, dtype: float64"
      ]
     },
     "execution_count": 12,
     "metadata": {},
     "output_type": "execute_result"
    }
   ],
   "source": [
    "y"
   ]
  },
  {
   "cell_type": "code",
   "execution_count": null,
   "id": "bca15d0e",
   "metadata": {},
   "outputs": [],
   "source": []
  }
 ],
 "metadata": {
  "kernelspec": {
   "display_name": "Python 3 (ipykernel)",
   "language": "python",
   "name": "python3"
  },
  "language_info": {
   "codemirror_mode": {
    "name": "ipython",
    "version": 3
   },
   "file_extension": ".py",
   "mimetype": "text/x-python",
   "name": "python",
   "nbconvert_exporter": "python",
   "pygments_lexer": "ipython3",
   "version": "3.9.12"
  }
 },
 "nbformat": 4,
 "nbformat_minor": 5
}
